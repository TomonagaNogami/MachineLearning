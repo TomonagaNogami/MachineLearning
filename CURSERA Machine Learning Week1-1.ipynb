{
 "cells": [
  {
   "cell_type": "markdown",
   "metadata": {},
   "source": [
    "https://www.coursera.org/learn/machine-learning/lecture/kCvQc/gradient-descent-for-linear-regression"
   ]
  },
  {
   "cell_type": "markdown",
   "metadata": {},
   "source": [
    "Parameter Learning / Gradient Descent For Linear Regression"
   ]
  },
  {
   "cell_type": "markdown",
   "metadata": {},
   "source": [
    "Video 02:38  \n",
    "下記微分方程式の導出  \n",
    "$$\n",
    "j=0  :  \\frac{\\partial}{\\partial\\theta_{0}}J(\\theta_{0},  \\theta_{1})  =  \n",
    "\\frac{\\partial}{\\partial\\theta_{0}}\\frac{1}{2m}\\sum_{i=1}^{m}(h_{\\theta}(x^{(i)})  -  y^{(i)})^{2}  =  \n",
    "\\frac{1}{m}\\sum_{i=1}^{m}(h_{\\theta}(x^{(i)})  -  y^{(i)}) \n",
    "$$"
   ]
  },
  {
   "cell_type": "markdown",
   "metadata": {},
   "source": [
    "$$\n",
    "\\frac{\\partial J}{\\partial \\theta_{0}}  =  \n",
    "\\frac{\\partial J}{\\partial h_{\\theta}}\\frac{\\partial h_{\\theta}}{\\partial \\theta_{0}}\n",
    "$$\n",
    "を使う。まず左側の微分から。"
   ]
  },
  {
   "cell_type": "markdown",
   "metadata": {},
   "source": [
    "$$\n",
    "\\frac{\\partial J}{\\partial h_{\\theta}}  =  \n",
    "\\frac{\\partial}{\\partial h_{\\theta}}\\frac{1}{2m}\\sum_{i=1}^{m}(h_{\\theta}(x^{(i)})  -  y^{(i)})^{2}\n",
    "$$"
   ]
  },
  {
   "cell_type": "markdown",
   "metadata": {},
   "source": [
    "$$\n",
    "\\frac{\\partial J}{\\partial h_{\\theta}}  =  \n",
    "\\frac{\\partial}{\\partial h_{\\theta}}\\frac{1}{2m}\\sum_{i=1}^{m}(h_{\\theta}(x^{(i)})  -  y^{(i)})^{2}\\\\\n",
    "=  \\frac{\\partial}{\\partial h_{\\theta}}\\frac{1}{2m}\\sum_{i=1}^{m}\n",
    "(h_{\\theta}(x^{(i)})^{2}  -  2y^{(i)}h_{\\theta}(x^{(i)})  +  y^{(i)2})\n",
    "$$\n",
    "\n"
   ]
  },
  {
   "cell_type": "markdown",
   "metadata": {
    "collapsed": true
   },
   "source": [
    "$$\n",
    "=  \\frac{1}{2m}\\sum_{i=1}^{m}2(h_{\\theta}(x^{(i)})  -  2y^{(i)})\n",
    "$$"
   ]
  },
  {
   "cell_type": "code",
   "execution_count": null,
   "metadata": {
    "collapsed": true
   },
   "outputs": [],
   "source": []
  }
 ],
 "metadata": {
  "kernelspec": {
   "display_name": "Octave",
   "language": "octave",
   "name": "octave"
  },
  "language_info": {
   "file_extension": ".m",
   "help_links": [
    {
     "text": "GNU Octave",
     "url": "https://www.gnu.org/software/octave/support.html"
    },
    {
     "text": "Octave Kernel",
     "url": "https://github.com/Calysto/octave_kernel"
    },
    {
     "text": "MetaKernel Magics",
     "url": "https://github.com/calysto/metakernel/blob/master/metakernel/magics/README.md"
    }
   ],
   "mimetype": "text/x-octave",
   "name": "octave",
   "version": "3.8.1"
  }
 },
 "nbformat": 4,
 "nbformat_minor": 1
}
