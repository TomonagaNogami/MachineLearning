{
 "cells": [
  {
   "cell_type": "markdown",
   "metadata": {},
   "source": [
    "# Parameter Learning / Gradient Descent For Linear Regression\n",
    "https://www.coursera.org/learn/machine-learning/lecture/kCvQc/gradient-descent-for-linear-regression\n",
    "\n",
    "## Video 02:38  \n",
    "下記微分方程式の導出  \n",
    "$$\n",
    "j=0  :  \\frac{\\partial}{\\partial\\theta_{0}}J(\\theta_{0},  \\theta_{1})  =  \n",
    "\\frac{\\partial}{\\partial\\theta_{0}}\\frac{1}{2m}\\sum_{i=1}^{m}(h_{\\theta}(x^{(i)})  -  y^{(i)})^{2}  =  \n",
    "\\frac{1}{m}\\sum_{i=1}^{m}(h_{\\theta}(x^{(i)})  -  y^{(i)}) \\\\\n",
    "j=1  :  \\frac{\\partial}{\\partial\\theta_{1}}J(\\theta_{0},  \\theta_{1})  =  \n",
    "\\frac{\\partial}{\\partial\\theta_{1}}\\frac{1}{2m}\\sum_{i=1}^{m}(h_{\\theta}(x^{(i)})  -  y^{(i)})^{2}  =  \n",
    "\\frac{1}{m}\\sum_{i=1}^{m}(h_{\\theta}(x^{(i)})  -  y^{(i)})  x\n",
    "$$\n",
    "\n",
    "下記の法則を使い分解する。  \n",
    "$$\n",
    "\\frac{\\partial J}{\\partial \\theta_{0}}  =  \n",
    "\\frac{\\partial J}{\\partial h_{\\theta}}\\frac{\\partial h_{\\theta}}{\\partial \\theta_{0}}\n",
    "$$\n",
    "\n",
    "まず、左側の偏微分を計算。この計算は$ \\theta_{0} $や$ \\theta_{1} $には依存しない。  \n",
    "$$\n",
    "\\frac{\\partial J}{\\partial h_{\\theta}}  =  \n",
    "\\frac{\\partial}{\\partial h_{\\theta}}\\frac{1}{2m}\\sum_{i=1}^{m}(h_{\\theta}(x^{(i)})  -  y^{(i)})^{2}\\\\\n",
    "=  \\frac{\\partial}{\\partial h_{\\theta}}\\frac{1}{2m}\\sum_{i=1}^{m}\n",
    "(h_{\\theta}(x^{(i)})^{2}  -  2y^{(i)}h_{\\theta}(x^{(i)})  +  y^{(i)2})\\\\\n",
    "=  \\frac{1}{2m}\\sum_{i=1}^{m}2(h_{\\theta}(x^{(i)})  -  2y^{(i)})\\\\\n",
    "=  \\frac{1}{m}\\sum_{i=1}^{m}(h_{\\theta}(x^{(i)})  -  y^{(i)})\n",
    "$$\n",
    "\n",
    "続いて右側の微分。こちらは$ \\theta_{0} $と$ \\theta_{1} $で結果が異なる。  \n",
    "$$\n",
    "\\frac{\\partial h_{\\theta}}{\\partial \\theta_{0}}  =  \n",
    "\\frac{\\partial}{\\partial \\theta_{0}}(\\theta_{1}x  +  \\theta_{0})\\\\\n",
    "=  1\\\\\n",
    "\\frac{\\partial h_{\\theta}}{\\partial \\theta_{1}}  =  \n",
    "\\frac{\\partial}{\\partial \\theta_{1}}(\\theta_{1}x  +  \\theta_{0})\\\\\n",
    "=  x\n",
    "$$\n",
    "\n",
    "よって最終的に下記を得る。  \n",
    "$$\n",
    "\\frac{\\partial J}{\\partial \\theta_{0}}\n",
    "=  \\frac{1}{m}\\sum_{i=1}^{m}(h_{\\theta}(x^{(i)})  -  y^{(i)})\\\\\n",
    "\\frac{\\partial J}{\\partial \\theta_{1}}\n",
    "=  \\frac{1}{m}\\sum_{i=1}^{m}(h_{\\theta}(x^{(i)})  -  y^{(i)})x\n",
    "$$"
   ]
  }
 ],
 "metadata": {
  "kernelspec": {
   "display_name": "Octave",
   "language": "octave",
   "name": "octave"
  },
  "language_info": {
   "file_extension": ".m",
   "help_links": [
    {
     "text": "GNU Octave",
     "url": "https://www.gnu.org/software/octave/support.html"
    },
    {
     "text": "Octave Kernel",
     "url": "https://github.com/Calysto/octave_kernel"
    },
    {
     "text": "MetaKernel Magics",
     "url": "https://github.com/calysto/metakernel/blob/master/metakernel/magics/README.md"
    }
   ],
   "mimetype": "text/x-octave",
   "name": "octave",
   "version": "3.8.0"
  }
 },
 "nbformat": 4,
 "nbformat_minor": 1
}
